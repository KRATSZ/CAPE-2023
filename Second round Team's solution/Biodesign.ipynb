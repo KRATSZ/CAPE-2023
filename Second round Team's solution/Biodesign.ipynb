{
 "cells": [
  {
   "cell_type": "code",
   "execution_count": 1,
   "id": "3bb1c86e",
   "metadata": {
    "_cell_guid": "b1076dfc-b9ad-4769-8c92-a6c4dae69d19",
    "_uuid": "8f2839f25d086af736a60e9eeb907d3b93b6e0e5",
    "execution": {
     "iopub.execute_input": "2023-10-30T10:35:00.302679Z",
     "iopub.status.busy": "2023-10-30T10:35:00.302281Z",
     "iopub.status.idle": "2023-10-30T10:35:00.624405Z",
     "shell.execute_reply": "2023-10-30T10:35:00.623229Z"
    },
    "papermill": {
     "duration": 0.328656,
     "end_time": "2023-10-30T10:35:00.627384",
     "exception": false,
     "start_time": "2023-10-30T10:35:00.298728",
     "status": "completed"
    },
    "tags": []
   },
   "outputs": [],
   "source": [
    "import pandas as pd\n",
    "import os\n"
   ]
  },
  {
   "cell_type": "code",
   "execution_count": 2,
   "id": "c36ea49c",
   "metadata": {
    "execution": {
     "iopub.execute_input": "2023-10-30T10:35:00.632734Z",
     "iopub.status.busy": "2023-10-30T10:35:00.632200Z",
     "iopub.status.idle": "2023-10-30T10:35:00.645529Z",
     "shell.execute_reply": "2023-10-30T10:35:00.644056Z"
    },
    "papermill": {
     "duration": 0.018542,
     "end_time": "2023-10-30T10:35:00.647746",
     "exception": true,
     "start_time": "2023-10-30T10:35:00.629204",
     "status": "failed"
    },
    "tags": []
   },
   "outputs": [
    {
     "ename": "SyntaxError",
     "evalue": "unterminated string literal (detected at line 11) (1946155175.py, line 11)",
     "output_type": "error",
     "traceback": [
      "\u001b[0;36m  Cell \u001b[0;32mIn[2], line 11\u001b[0;36m\u001b[0m\n\u001b[0;31m    for dirname, _, filenames in os.walk(data'):  # 换成自己存放数据的目录\u001b[0m\n\u001b[0m                                             ^\u001b[0m\n\u001b[0;31mSyntaxError\u001b[0m\u001b[0;31m:\u001b[0m unterminated string literal (detected at line 11)\n"
     ]
    }
   ],
   "source": [
    "def get_mutantseq(Mutant_AA,Mutant_site,Base_seq):\n",
    "    Seq = Base_seq\n",
    "    for i, AA in enumerate(Mutant_AA):\n",
    "        Seq = Seq[0:int(Mutant_site[i]) - 1] + AA + Seq[int(Mutant_site[i]):]\n",
    "    return Seq\n",
    "\n",
    "vari_column = ['74','101','143','148','173','176']\n",
    "Base_seq = 'MRRESLLVSVCKGLRVHVERVGQDPGRSTVMLVNGAMATTASFARTCKCLAEHFNVVLFDLPFAGQSRQHNPQRGLITKDDEVEILLALIERFEVNHLVSASWGGISTLLALSRNPRGIRSSVVMAFAPGLNQAMLDYVGRAQALIELDDKSAIGHLLNETVGKYLPQRLKASNHQHMASLATGEYEQARFHIDQVLALNDRGYLACLERIQSHVHFINGSWDEYTTAEDARQFRDYLPHCSFSRVEGTGHFLDLESKLAAVRVHRALLEHLLKQPEPQRAERAAGFHEMAIGYA'\n",
    "\n",
    "\n",
    "for dirname, _, filenames in os.walk(data'):  # 换成自己存放数据的目录\n",
    "    for filename in filenames:\n",
    "        try:\n",
    "            if 'xlsx' in filename:\n",
    "                data = pd.read_excel(os.path.join(dirname, filename))\n",
    "                data['Sequence_CDS'] = data['Sequence'].apply(lambda x:get_mutantseq(x,vari_column,Base_seq))  # 生成突变序列\n",
    "                data.to_excel(os.path.join(dirname, filename))\n",
    "            if 'csv' in filename:\n",
    "                data = pd.read_csv(os.path.join(dirname, filename))\n",
    "                data['Sequence_CDS'] = data['Sequence'].apply(lambda x:get_mutantseq(x,vari_column,Base_seq))  # 生成突变序列\n",
    "                data.to_csv(os.path.join(dirname, filename))\n",
    "        except:\n",
    "            print(filename,'有错误')  # sample_submission.csv "
   ]
  }
 ],
 "metadata": {
  "kernelspec": {
   "display_name": "Python 3",
   "language": "python",
   "name": "python3"
  },
  "language_info": {
   "codemirror_mode": {
    "name": "ipython",
    "version": 3
   },
   "file_extension": ".py",
   "mimetype": "text/x-python",
   "name": "python",
   "nbconvert_exporter": "python",
   "pygments_lexer": "ipython3",
   "version": "3.10.12"
  },
  "papermill": {
   "default_parameters": {},
   "duration": 3.865742,
   "end_time": "2023-10-30T10:35:01.171542",
   "environment_variables": {},
   "exception": true,
   "input_path": "__notebook__.ipynb",
   "output_path": "__notebook__.ipynb",
   "parameters": {},
   "start_time": "2023-10-30T10:34:57.305800",
   "version": "2.4.0"
  }
 },
 "nbformat": 4,
 "nbformat_minor": 5
}
