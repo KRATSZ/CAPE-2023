{
 "cells": [
  {
   "cell_type": "code",
   "execution_count": 1,
   "id": "25873bdd",
   "metadata": {
    "_cell_guid": "b1076dfc-b9ad-4769-8c92-a6c4dae69d19",
    "_uuid": "8f2839f25d086af736a60e9eeb907d3b93b6e0e5",
    "execution": {
     "iopub.execute_input": "2023-10-26T13:16:44.758756Z",
     "iopub.status.busy": "2023-10-26T13:16:44.758360Z",
     "iopub.status.idle": "2023-10-26T13:16:45.199846Z",
     "shell.execute_reply": "2023-10-26T13:16:45.198552Z"
    },
    "papermill": {
     "duration": 0.450047,
     "end_time": "2023-10-26T13:16:45.203421",
     "exception": false,
     "start_time": "2023-10-26T13:16:44.753374",
     "status": "completed"
    },
    "tags": []
   },
   "outputs": [
    {
     "name": "stdout",
     "output_type": "stream",
     "text": [
      "/kaggle/input/mha-pe-ln-adam-0-0001lr-4bz-4head-16embed/1_bestmodel.pth\n",
      "/kaggle/input/mha-pe-ln-adam-0-0001lr-4bz-4head-16embed/3_bestmodel.pth\n",
      "/kaggle/input/mha-pe-ln-adam-0-0001lr-4bz-4head-16embed/model.py\n",
      "/kaggle/input/mha-pe-ln-adam-0-0001lr-4bz-4head-16embed/4_bestmodel.pth\n",
      "/kaggle/input/mha-pe-ln-adam-0-0001lr-4bz-4head-16embed/0_bestmodel.pth\n",
      "/kaggle/input/mha-pe-ln-adam-0-0001lr-4bz-4head-16embed/2_bestmodel.pth\n",
      "/kaggle/input/siatprotein2023/sample_submission.csv\n",
      "/kaggle/input/siatprotein2023/training.csv\n",
      "/kaggle/input/siatprotein2023/test.csv\n",
      "/kaggle/input/siatprotein2023/Rhla.xlsx\n"
     ]
    }
   ],
   "source": [
    "# This Python 3 environment comes with many helpful analytics libraries installed\n",
    "# It is defined by the kaggle/python Docker image: https://github.com/kaggle/docker-python\n",
    "# For example, here's several helpful packages to load\n",
    "\n",
    "import numpy as np # linear algebra\n",
    "import pandas as pd # data processing, CSV file I/O (e.g. pd.read_csv)\n",
    "\n",
    "# Input data files are available in the read-only \"../input/\" directory\n",
    "# For example, running this (by clicking run or pressing Shift+Enter) will list all files under the input directory\n",
    "\n",
    "import os\n",
    "for dirname, _, filenames in os.walk('/kaggle/input'):\n",
    "    for filename in filenames:\n",
    "        print(os.path.join(dirname, filename))\n",
    "\n",
    "# You can write up to 20GB to the current directory (/kaggle/working/) that gets preserved as output when you create a version using \"Save & Run All\" \n",
    "# You can also write temporary files to /kaggle/temp/, but they won't be saved outside of the current session"
   ]
  },
  {
   "cell_type": "code",
   "execution_count": 2,
   "id": "cccb96c5",
   "metadata": {
    "execution": {
     "iopub.execute_input": "2023-10-26T13:16:45.213691Z",
     "iopub.status.busy": "2023-10-26T13:16:45.212907Z",
     "iopub.status.idle": "2023-10-26T13:16:49.125106Z",
     "shell.execute_reply": "2023-10-26T13:16:49.123748Z"
    },
    "papermill": {
     "duration": 3.919421,
     "end_time": "2023-10-26T13:16:49.127994",
     "exception": false,
     "start_time": "2023-10-26T13:16:45.208573",
     "status": "completed"
    },
    "tags": []
   },
   "outputs": [],
   "source": [
    "import numpy as np\n",
    "import pandas as pd\n",
    "import os\n",
    "import shutil\n",
    "import torch as th\n",
    "from torch.utils.data import DataLoader, Dataset"
   ]
  },
  {
   "cell_type": "code",
   "execution_count": 3,
   "id": "eb4b45b8",
   "metadata": {
    "execution": {
     "iopub.execute_input": "2023-10-26T13:16:49.135879Z",
     "iopub.status.busy": "2023-10-26T13:16:49.135332Z",
     "iopub.status.idle": "2023-10-26T13:16:49.151760Z",
     "shell.execute_reply": "2023-10-26T13:16:49.150488Z"
    },
    "papermill": {
     "duration": 0.023205,
     "end_time": "2023-10-26T13:16:49.154274",
     "exception": false,
     "start_time": "2023-10-26T13:16:49.131069",
     "status": "completed"
    },
    "tags": []
   },
   "outputs": [],
   "source": [
    "class MyDataset(Dataset):\n",
    "    def __init__(self, feats):\n",
    "        self.feats = feats\n",
    "\n",
    "    def __getitem__(self, idx):\n",
    "        return self.feats[idx]\n",
    "\n",
    "    def __len__(self):\n",
    "        return len(self.feats)\n",
    "    \n",
    "class ProcessData():\n",
    "    def __init__(self, test_fpath, batch_size):\n",
    "        voc_str = \"ACDEFGHIKLMNPQRSTVWY\"\n",
    "        voc_list = list(voc_str)\n",
    "        self.voc_dict = dict(zip(voc_list, [x for x in range(len(voc_list))]))\n",
    "\n",
    "        test_df = pd.read_csv(test_fpath, index_col=0)\n",
    "        self.test_index = test_df.index.tolist()\n",
    "        self.test_values = test_df.values.ravel()\n",
    "        self.batch_size = batch_size\n",
    "\n",
    "    def voc_to_idx(self, seqs_array):\n",
    "        seqs_list = seqs_array.tolist()\n",
    "        seqs_indices = []\n",
    "        for seq in seqs_list:\n",
    "            seq = list(seq)\n",
    "            seq_symmbol = np.array([self.voc_dict[x] for x in seq]).reshape(1, -1)\n",
    "            seqs_indices.append(seq_symmbol)\n",
    "        seqs_indices = np.concatenate(seqs_indices, axis=0)\n",
    "        return seqs_indices\n",
    "\n",
    "    def process_data(self):\n",
    "        test_feats = th.from_numpy(self.voc_to_idx(self.test_values).astype(np.int32))\n",
    "        datasets = MyDataset(test_feats)\n",
    "        test_dataloader = DataLoader(datasets, batch_size=self.batch_size, shuffle=False)\n",
    "        return test_dataloader\n",
    "\n",
    "def run_a_batch_predict(model, dataloader, device):\n",
    "    model.eval()\n",
    "    with th.no_grad():\n",
    "        pred_values_list = []\n",
    "        for idx, data in enumerate(dataloader):\n",
    "            feats = data.to(th.long)\n",
    "            if device.startswith(\"cuda\"):\n",
    "                feats = feats.cuda()\n",
    "            pred_activity, pred_selectivity = model(feats)\n",
    "            pred_values = th.cat([pred_activity, pred_selectivity], axis=1).cpu().detach().numpy()\n",
    "            pred_values_list.append(pred_values)\n",
    "    \n",
    "        pred_values = np.concatenate(pred_values_list, axis=0)\n",
    "\n",
    "        return pred_values"
   ]
  },
  {
   "cell_type": "code",
   "execution_count": 4,
   "id": "9be7f276",
   "metadata": {
    "execution": {
     "iopub.execute_input": "2023-10-26T13:16:49.162112Z",
     "iopub.status.busy": "2023-10-26T13:16:49.161679Z",
     "iopub.status.idle": "2023-10-26T13:16:49.553328Z",
     "shell.execute_reply": "2023-10-26T13:16:49.551932Z"
    },
    "papermill": {
     "duration": 0.398917,
     "end_time": "2023-10-26T13:16:49.556323",
     "exception": false,
     "start_time": "2023-10-26T13:16:49.157406",
     "status": "completed"
    },
    "tags": []
   },
   "outputs": [],
   "source": [
    "test_fpath = \"/kaggle/input/siatprotein2023/test.csv\"\n",
    "batch_size = 32\n",
    "device = \"cpu\"\n",
    "shutil.copyfile(\"/kaggle/input/mha-pe-ln-adam-0-0001lr-4bz-4head-16embed/model.py\", \"/kaggle/working/model.py\")\n",
    "\n",
    "test_data = ProcessData(test_fpath, batch_size)\n",
    "test_dataloader = test_data.process_data()\n",
    "test_index = test_data.test_index\n",
    "\n",
    "all_pred_values_list = []\n",
    "for i in range(5):\n",
    "    model_fpath = f\"/kaggle/input/mha-pe-ln-adam-0-0001lr-4bz-4head-16embed/{i}_bestmodel.pth\"\n",
    "    model = th.load(model_fpath, map_location=th.device(device))\n",
    "    pred_values = run_a_batch_predict(model, test_dataloader, device)\n",
    "    all_pred_values_list.append(pred_values.reshape(1, -1, 2))\n",
    "all_pred_values_array = np.concatenate(all_pred_values_list, axis=0)\n",
    "mean_pred_values = np.mean(all_pred_values_array, axis=0)\n",
    "\n",
    "results_df = pd.DataFrame()\n",
    "results_df['SequenceID'] = test_index\n",
    "results_df[\"Activity\"] = mean_pred_values[:, 0]\n",
    "results_df[\"Selectivity\"] = mean_pred_values[:, 1]\n",
    "results_df.to_csv('predictions.csv', index=False)"
   ]
  },
  {
   "cell_type": "code",
   "execution_count": null,
   "id": "3d034c57",
   "metadata": {
    "papermill": {
     "duration": 0.002737,
     "end_time": "2023-10-26T13:16:49.562893",
     "exception": false,
     "start_time": "2023-10-26T13:16:49.560156",
     "status": "completed"
    },
    "tags": []
   },
   "outputs": [],
   "source": []
  }
 ],
 "metadata": {
  "kernelspec": {
   "display_name": "Python 3",
   "language": "python",
   "name": "python3"
  },
  "language_info": {
   "codemirror_mode": {
    "name": "ipython",
    "version": 3
   },
   "file_extension": ".py",
   "mimetype": "text/x-python",
   "name": "python",
   "nbconvert_exporter": "python",
   "pygments_lexer": "ipython3",
   "version": "3.10.12"
  },
  "papermill": {
   "default_parameters": {},
   "duration": 9.645798,
   "end_time": "2023-10-26T13:16:50.591966",
   "environment_variables": {},
   "exception": null,
   "input_path": "__notebook__.ipynb",
   "output_path": "__notebook__.ipynb",
   "parameters": {},
   "start_time": "2023-10-26T13:16:40.946168",
   "version": "2.4.0"
  }
 },
 "nbformat": 4,
 "nbformat_minor": 5
}
